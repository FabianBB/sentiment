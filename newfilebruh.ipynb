{
 "cells": [
  {
   "cell_type": "code",
   "execution_count": null,
   "id": "initial_id",
   "metadata": {
    "collapsed": true
   },
   "outputs": [],
   "source": [
    "import pandas as pd\n",
    "from arch import arch_model\n",
    "\n",
    "# Assuming your data is already cleaned and prepared\n",
    "# Replace 'your_dataframe' with the actual DataFrame variable name containing the data\n",
    "# For example, if your DataFrame is named 'regression_data_cleaned', use it directly\n",
    "data = regression_data_cleaned\n",
    "\n",
    "# Prepare the dependent variable (returns) and exogenous variables (sentiment indicators)\n",
    "y = data['Return']\n",
    "exog = data[['Bullish_sentiment', 'Bearish_sentiment', 'Neutral_sentiment', 'Spread_sentiment', 'Mov Avg_sentiment']]\n",
    "\n",
    "# Create the GARCH model with sentiment indicators as exogenous variables\n",
    "mod = arch_model(y, x=exog, mean='ARX', lags=1)\n",
    "res = mod.fit(disp='off')\n",
    "\n",
    "# Print the summary of the model results\n",
    "print(res.summary())\n"
   ]
  },
  {
   "metadata": {
    "ExecuteTime": {
     "end_time": "2024-05-27T18:49:32.560023Z",
     "start_time": "2024-05-27T18:49:32.285499Z"
    }
   },
   "cell_type": "code",
   "source": [
    "import pandas as pd\n",
    "from arch import arch_model\n",
    "\n",
    "# Load the data from the provided CSV file\n",
    "file_path = 'data.csv'\n",
    "data = pd.read_csv(file_path)\n",
    "\n",
    "# Convert 'Date' to datetime format\n",
    "data['Date'] = pd.to_datetime(data['Date'])\n",
    "\n",
    "# Calculate daily returns\n",
    "data['Return'] = data['Close'].pct_change()\n",
    "\n",
    "# Calculate rolling volatility (standard deviation of returns)\n",
    "data['Volatility'] = data['Return'] ** 2  # 21 trading days in a month\n",
    "\n",
    "# Drop rows with missing values due to rolling calculations\n",
    "regression_data = data.dropna(subset=['Return', 'Bullish_sentiment', 'Bearish_sentiment', 'Neutral_sentiment', \n",
    "                                      'Spread_sentiment', 'Mov Avg_sentiment', 'Volatility'])\n",
    "\n",
    "# Remove rows with missing volatility values\n",
    "regression_data_cleaned = regression_data.dropna(subset=['Volatility'])\n",
    "\n",
    "# Prepare the dependent variable (returns) and exogenous variables (sentiment indicators) for the GARCH model\n",
    "y_returns = regression_data_cleaned['Volatility'] * 1000\n",
    "exog_vars = regression_data_cleaned[['Bullish_sentiment', 'Bearish_sentiment', 'Neutral_sentiment', 'Spread_sentiment', 'Mov Avg_sentiment']]\n",
    "\n",
    "# Create the GARCH model with sentiment indicators as exogenous variables\n",
    "mod = arch_model(y_returns, x=exog_vars, mean='ARX', lags=1)\n",
    "res = mod.fit(disp='off')\n",
    "\n",
    "# Print the summary of the model results\n",
    "print(res.summary())\n"
   ],
   "id": "642634a881a08810",
   "outputs": [
    {
     "name": "stdout",
     "output_type": "stream",
     "text": [
      "                          AR-X - GARCH Model Results                          \n",
      "==============================================================================\n",
      "Dep. Variable:             Volatility   R-squared:                       0.056\n",
      "Mean Model:                      AR-X   Adj. R-squared:                  0.055\n",
      "Vol Model:                      GARCH   Log-Likelihood:                1236.12\n",
      "Distribution:                  Normal   AIC:                          -2452.24\n",
      "Method:            Maximum Likelihood   BIC:                          -2385.04\n",
      "                                        No. Observations:                 6125\n",
      "Date:                Mon, May 27 2024   Df Residuals:                     6118\n",
      "Time:                        20:49:32   Df Model:                            7\n",
      "                                    Mean Model                                   \n",
      "=================================================================================\n",
      "                        coef    std err          t      P>|t|    95.0% Conf. Int.\n",
      "---------------------------------------------------------------------------------\n",
      "Const                36.4200      2.752     13.232  5.757e-40   [ 31.025, 41.815]\n",
      "Volatility[1]         0.0964  4.781e-02      2.017  4.369e-02 [2.728e-03,  0.190]\n",
      "Bullish_sentiment   -36.2907     19.499     -1.861  6.272e-02   [-74.508,  1.926]\n",
      "Bearish_sentiment   -36.2068     15.182     -2.385  1.708e-02   [-65.963, -6.451]\n",
      "Neutral_sentiment   -36.4856      2.746    -13.287  2.761e-40   [-41.868,-31.104]\n",
      "Spread_sentiment     -0.0839     17.250 -4.866e-03      0.996   [-33.893, 33.725]\n",
      "Mov Avg_sentiment    -0.0731  3.955e-02     -1.849  6.439e-02 [ -0.151,4.369e-03]\n",
      "                              Volatility Model                              \n",
      "============================================================================\n",
      "                 coef    std err          t      P>|t|      95.0% Conf. Int.\n",
      "----------------------------------------------------------------------------\n",
      "omega      5.3604e-03  4.602e-04     11.647  2.364e-31 [4.458e-03,6.262e-03]\n",
      "alpha[1]       0.2008  2.639e-02      7.608  2.782e-14     [  0.149,  0.253]\n",
      "beta[1]        0.7792  1.282e-02     60.762      0.000     [  0.754,  0.804]\n",
      "============================================================================\n",
      "\n",
      "Covariance estimator: robust\n"
     ]
    }
   ],
   "execution_count": 13
  },
  {
   "metadata": {
    "ExecuteTime": {
     "end_time": "2024-05-27T20:01:54.061361Z",
     "start_time": "2024-05-27T20:01:48.507319Z"
    }
   },
   "cell_type": "code",
   "source": [
    "import pandas as pd\n",
    "import numpy as np\n",
    "from sklearn.preprocessing import MinMaxScaler\n",
    "from sklearn.model_selection import train_test_split\n",
    "from tensorflow.keras.models import Sequential\n",
    "from tensorflow.keras.layers import LSTM, Dense, Dropout, Bidirectional\n",
    "\n",
    "# Load the data from the provided CSV file\n",
    "file_path = 'data.csv'\n",
    "data = pd.read_csv(file_path)\n",
    "\n",
    "# Convert 'Date' to datetime format\n",
    "data['Date'] = pd.to_datetime(data['Date'])\n",
    "\n",
    "# Calculate daily returns\n",
    "data['Return'] = data['Close'].pct_change()\n",
    "\n",
    "data[\"Volatility\"] = data[\"Return\"] ** 2\n",
    "\n",
    "# Drop rows with missing values\n",
    "data = data.dropna()"
   ],
   "id": "99ef7fc2a24dcd75",
   "outputs": [],
   "execution_count": 1
  },
  {
   "metadata": {
    "ExecuteTime": {
     "end_time": "2024-05-27T20:01:54.103486Z",
     "start_time": "2024-05-27T20:01:54.065350Z"
    }
   },
   "cell_type": "code",
   "source": [
    "\n",
    "# Select features and target\n",
    "features = data[['Bullish_sentiment', 'Bearish_sentiment', 'Neutral_sentiment', 'Spread_sentiment', 'Mov Avg_sentiment']].values\n",
    "target = data['Volatility'].values.reshape(-1, 1)\n",
    "\n",
    "# Normalize the data\n",
    "scaler_x = MinMaxScaler(feature_range=(0, 1))\n",
    "features_scaled = scaler_x.fit_transform(features)\n",
    "\n",
    "scaler_y = MinMaxScaler(feature_range=(0, 1))\n",
    "target_scaled = scaler_y.fit_transform(target)\n",
    "\n",
    "# Create sequences for LSTM\n",
    "def create_sequences(features, target, time_step=1):\n",
    "    X, y = [], []\n",
    "    for i in range(len(features)-time_step-1):\n",
    "        X.append(features[i:(i+time_step), :])\n",
    "        y.append(target[i + time_step])\n",
    "    return np.array(X), np.array(y)\n",
    "\n",
    "time_step = 10\n",
    "X, y = create_sequences(features_scaled, target_scaled, time_step)\n",
    "\n",
    "# Split the data into training and testing sets\n",
    "X_train, X_test, y_train, y_test = train_test_split(X, y, test_size=0.2, random_state=42, shuffle=False)"
   ],
   "id": "fa282ea87f835e7",
   "outputs": [],
   "execution_count": 2
  },
  {
   "metadata": {
    "ExecuteTime": {
     "end_time": "2024-05-27T20:02:12.741426Z",
     "start_time": "2024-05-27T20:02:12.621050Z"
    }
   },
   "cell_type": "code",
   "source": [
    "# Build the LSTM model\n",
    "model = Sequential()\n",
    "model.add(Bidirectional(LSTM(100, return_sequences=True), input_shape=(time_step, X.shape[2])))\n",
    "model.add(LSTM(25, return_sequences=True))\n",
    "model.add(LSTM(10, return_sequences=False))\n",
    "model.add(Dense(1))\n",
    "model.compile(optimizer='adam', loss='mse')"
   ],
   "id": "cf9e5a248557bad2",
   "outputs": [
    {
     "name": "stderr",
     "output_type": "stream",
     "text": [
      "C:\\environments\\Lib\\site-packages\\keras\\src\\layers\\core\\wrapper.py:27: UserWarning: Do not pass an `input_shape`/`input_dim` argument to a layer. When using Sequential models, prefer using an `Input(shape)` object as the first layer in the model instead.\n",
      "  super().__init__(**kwargs)\n"
     ]
    }
   ],
   "execution_count": 4
  },
  {
   "metadata": {},
   "cell_type": "code",
   "outputs": [
    {
     "name": "stdout",
     "output_type": "stream",
     "text": [
      "Epoch 1/10\n"
     ]
    },
    {
     "name": "stderr",
     "output_type": "stream",
     "text": [
      "C:\\environments\\Lib\\site-packages\\keras\\src\\layers\\core\\wrapper.py:27: UserWarning: Do not pass an `input_shape`/`input_dim` argument to a layer. When using Sequential models, prefer using an `Input(shape)` object as the first layer in the model instead.\n",
      "  super().__init__(**kwargs)\n"
     ]
    },
    {
     "name": "stdout",
     "output_type": "stream",
     "text": [
      "\u001B[1m153/153\u001B[0m \u001B[32m━━━━━━━━━━━━━━━━━━━━\u001B[0m\u001B[37m\u001B[0m \u001B[1m9s\u001B[0m 22ms/step - loss: 0.0017 - val_loss: 0.0024\n",
      "Epoch 2/10\n",
      "\u001B[1m153/153\u001B[0m \u001B[32m━━━━━━━━━━━━━━━━━━━━\u001B[0m\u001B[37m\u001B[0m \u001B[1m2s\u001B[0m 15ms/step - loss: 0.0015 - val_loss: 0.0024\n",
      "Epoch 3/10\n",
      "\u001B[1m153/153\u001B[0m \u001B[32m━━━━━━━━━━━━━━━━━━━━\u001B[0m\u001B[37m\u001B[0m \u001B[1m2s\u001B[0m 14ms/step - loss: 7.4823e-04 - val_loss: 0.0024\n",
      "Epoch 4/10\n",
      "\u001B[1m153/153\u001B[0m \u001B[32m━━━━━━━━━━━━━━━━━━━━\u001B[0m\u001B[37m\u001B[0m \u001B[1m2s\u001B[0m 14ms/step - loss: 0.0012 - val_loss: 0.0024\n",
      "Epoch 5/10\n",
      "\u001B[1m153/153\u001B[0m \u001B[32m━━━━━━━━━━━━━━━━━━━━\u001B[0m\u001B[37m\u001B[0m \u001B[1m2s\u001B[0m 15ms/step - loss: 8.2228e-04 - val_loss: 0.0024\n",
      "Epoch 6/10\n",
      "\u001B[1m153/153\u001B[0m \u001B[32m━━━━━━━━━━━━━━━━━━━━\u001B[0m\u001B[37m\u001B[0m \u001B[1m2s\u001B[0m 14ms/step - loss: 0.0015 - val_loss: 0.0024\n",
      "Epoch 7/10\n",
      "\u001B[1m153/153\u001B[0m \u001B[32m━━━━━━━━━━━━━━━━━━━━\u001B[0m\u001B[37m\u001B[0m \u001B[1m2s\u001B[0m 14ms/step - loss: 8.5964e-04 - val_loss: 0.0024\n",
      "Epoch 8/10\n",
      "\u001B[1m153/153\u001B[0m \u001B[32m━━━━━━━━━━━━━━━━━━━━\u001B[0m\u001B[37m\u001B[0m \u001B[1m2s\u001B[0m 14ms/step - loss: 9.8279e-04 - val_loss: 0.0024\n",
      "Epoch 9/10\n",
      "\u001B[1m153/153\u001B[0m \u001B[32m━━━━━━━━━━━━━━━━━━━━\u001B[0m\u001B[37m\u001B[0m \u001B[1m2s\u001B[0m 14ms/step - loss: 8.5390e-04 - val_loss: 0.0024\n",
      "Epoch 10/10\n",
      "\u001B[1m153/153\u001B[0m \u001B[32m━━━━━━━━━━━━━━━━━━━━\u001B[0m\u001B[37m\u001B[0m \u001B[1m2s\u001B[0m 14ms/step - loss: 8.1737e-04 - val_loss: 0.0024\n",
      "Train Loss: 0.0009878571145236492\n",
      "Test Loss: 0.00236852397210896\n"
     ]
    }
   ],
   "execution_count": 88,
   "source": [
    "\n",
    "# Train the model\n",
    "history = model.fit(X_train, y_train, epochs=10, batch_size=32, validation_data=(X_test, y_test), verbose=1)\n",
    "\n",
    "# Evaluate the model\n",
    "train_loss = model.evaluate(X_train, y_train, verbose=0)\n",
    "test_loss = model.evaluate(X_test, y_test, verbose=0)\n",
    "\n",
    "print(f\"Train Loss: {train_loss}\")\n",
    "print(f\"Test Loss: {test_loss}\")"
   ],
   "id": "c39b0046ec0866bb"
  },
  {
   "metadata": {
    "ExecuteTime": {
     "end_time": "2024-05-27T19:49:54.231444Z",
     "start_time": "2024-05-27T19:49:51.808310Z"
    }
   },
   "cell_type": "code",
   "source": [
    "\n",
    "# Make predictions\n",
    "train_predict = model.predict(X_train)\n",
    "test_predict = model.predict(X_test)\n",
    "\n",
    "# Inverse transform predictions and actual values\n",
    "train_predict = scaler_y.inverse_transform(train_predict)\n",
    "test_predict = scaler_y.inverse_transform(test_predict)\n",
    "y_train_actual = scaler_y.inverse_transform(y_train)\n",
    "y_test_actual = scaler_y.inverse_transform(y_test)"
   ],
   "id": "48075cbe1b96f752",
   "outputs": [
    {
     "name": "stdout",
     "output_type": "stream",
     "text": [
      "\u001B[1m153/153\u001B[0m \u001B[32m━━━━━━━━━━━━━━━━━━━━\u001B[0m\u001B[37m\u001B[0m \u001B[1m2s\u001B[0m 10ms/step\n",
      "\u001B[1m39/39\u001B[0m \u001B[32m━━━━━━━━━━━━━━━━━━━━\u001B[0m\u001B[37m\u001B[0m \u001B[1m0s\u001B[0m 5ms/step\n"
     ]
    }
   ],
   "execution_count": 89
  },
  {
   "metadata": {
    "ExecuteTime": {
     "end_time": "2024-05-27T19:49:54.556882Z",
     "start_time": "2024-05-27T19:49:54.232439Z"
    }
   },
   "cell_type": "code",
   "source": [
    "\n",
    "# Plot the results\n",
    "import matplotlib.pyplot as plt\n",
    "\n",
    "plt.figure(figsize=(14, 5))\n",
    "# plt.plot(y_train_actual, label='Actual Returns - train')\n",
    "# plt.plot(train_predict, label='Predicted Returns - train')\n",
    "plt.plot(y_test_actual, label='Actual Returns')\n",
    "plt.plot(test_predict, label='Predicted Returns')\n",
    "plt.title(f'LSTM Model - Actual vs Predicted Returns - Lookback: {time_step}')\n",
    "plt.xlabel('Time')\n",
    "plt.ylabel('Returns')\n",
    "plt.legend()\n",
    "plt.show()\n"
   ],
   "id": "faae7f3b014d6c52",
   "outputs": [
    {
     "data": {
      "text/plain": [
       "<Figure size 1400x500 with 1 Axes>"
      ],
      "image/png": "[encoded data removed]"
     },
     "metadata": {},
     "output_type": "display_data"
    }
   ],
   "execution_count": 90
  },
  {
   "metadata": {
    "ExecuteTime": {
     "end_time": "2024-05-27T19:48:32.058813Z",
     "start_time": "2024-05-27T19:48:32.051175Z"
    }
   },
   "cell_type": "code",
   "source": [
    "from sklearn.metrics import r2_score, mean_squared_error, mean_absolute_error, mean_absolute_percentage_error\n",
    "import numpy as np\n",
    "\n",
    "# Calculate R2, MSE, RMSE, MAE for the test set\n",
    "r2 = r2_score(y_test_actual, test_predict)\n",
    "mse = mean_squared_error(y_test_actual, test_predict)\n",
    "rmse = np.sqrt(mse)\n",
    "mae = mean_absolute_error(y_test_actual, test_predict)\n",
    "#y_test_actual = [x for x in y_test_actual if x != 0]\n",
    "mape = mean_absolute_percentage_error(y_test_actual, test_predict)\n",
    "\n",
    "print(f\"R²: {r2}\")\n",
    "print(f\"MSE: {mse}\")\n",
    "print(f\"RMSE: {rmse}\")\n",
    "print(f\"MAE: {mae}\")\n",
    "print(f\"MAPE: {mape}\")"
   ],
   "id": "6d118a0900ea1f57",
   "outputs": [
    {
     "name": "stdout",
     "output_type": "stream",
     "text": [
      "R²: 0.026769974727127166\n",
      "MSE: 4.881366671929725e-07\n",
      "RMSE: 0.0006986677802739815\n",
      "MAE: 0.0001778256402420003\n",
      "MAPE: 2059.15837157828\n"
     ]
    }
   ],
   "execution_count": 84
  },
  {
   "metadata": {
    "ExecuteTime": {
     "end_time": "2024-05-27T19:35:24.088535Z",
     "start_time": "2024-05-27T19:35:24.081123Z"
    }
   },
   "cell_type": "code",
   "source": "data[\"Volatility\"].mean()",
   "id": "57ecc49169ec9c3b",
   "outputs": [
    {
     "data": {
      "text/plain": [
       "0.00015114984996226236"
      ]
     },
     "execution_count": 54,
     "metadata": {},
     "output_type": "execute_result"
    }
   ],
   "execution_count": 54
  },
  {
   "metadata": {
    "ExecuteTime": {
     "end_time": "2024-05-27T19:35:55.070263Z",
     "start_time": "2024-05-27T19:35:55.064574Z"
    }
   },
   "cell_type": "code",
   "source": "0.000156/ 0.000151",
   "id": "e249e23ca951edb1",
   "outputs": [
    {
     "data": {
      "text/plain": [
       "1.033112582781457"
      ]
     },
     "execution_count": 56,
     "metadata": {},
     "output_type": "execute_result"
    }
   ],
   "execution_count": 56
  },
  {
   "metadata": {
    "ExecuteTime": {
     "end_time": "2024-05-27T20:04:45.077375Z",
     "start_time": "2024-05-27T20:04:44.904293Z"
    }
   },
   "cell_type": "code",
   "source": [
    "# Plot the model\n",
    "import pydot_ng\n",
    "import graphviz\n",
    "from tensorflow.keras.utils import plot_model\n",
    "\n",
    "\n",
    "\n",
    "plot_model(model, to_file='model.png', show_shapes=True, show_layer_names=True)"
   ],
   "id": "6a93c2d1a758eb73",
   "outputs": [
    {
     "ename": "AttributeError",
     "evalue": "module 'pydot' has no attribute 'InvocationException'",
     "output_type": "error",
     "traceback": [
      "\u001B[1;31m---------------------------------------------------------------------------\u001B[0m",
      "\u001B[1;31mFileNotFoundError\u001B[0m                         Traceback (most recent call last)",
      "File \u001B[1;32mC:\\environments\\Lib\\site-packages\\pydot\\core.py:1753\u001B[0m, in \u001B[0;36mDot.create\u001B[1;34m(self, prog, format, encoding)\u001B[0m\n\u001B[0;32m   1752\u001B[0m \u001B[38;5;28;01mtry\u001B[39;00m:\n\u001B[1;32m-> 1753\u001B[0m     stdout_data, stderr_data, process \u001B[38;5;241m=\u001B[39m \u001B[43mcall_graphviz\u001B[49m\u001B[43m(\u001B[49m\n\u001B[0;32m   1754\u001B[0m \u001B[43m        \u001B[49m\u001B[43mprogram\u001B[49m\u001B[38;5;241;43m=\u001B[39;49m\u001B[43mprog\u001B[49m\u001B[43m,\u001B[49m\n\u001B[0;32m   1755\u001B[0m \u001B[43m        \u001B[49m\u001B[43marguments\u001B[49m\u001B[38;5;241;43m=\u001B[39;49m\u001B[43marguments\u001B[49m\u001B[43m,\u001B[49m\n\u001B[0;32m   1756\u001B[0m \u001B[43m        \u001B[49m\u001B[43mworking_dir\u001B[49m\u001B[38;5;241;43m=\u001B[39;49m\u001B[43mtmp_dir\u001B[49m\u001B[43m,\u001B[49m\n\u001B[0;32m   1757\u001B[0m \u001B[43m    \u001B[49m\u001B[43m)\u001B[49m\n\u001B[0;32m   1758\u001B[0m \u001B[38;5;28;01mexcept\u001B[39;00m \u001B[38;5;167;01mOSError\u001B[39;00m \u001B[38;5;28;01mas\u001B[39;00m e:\n",
      "File \u001B[1;32mC:\\environments\\Lib\\site-packages\\pydot\\core.py:133\u001B[0m, in \u001B[0;36mcall_graphviz\u001B[1;34m(program, arguments, working_dir, **kwargs)\u001B[0m\n\u001B[0;32m    131\u001B[0m program_with_args \u001B[38;5;241m=\u001B[39m [program] \u001B[38;5;241m+\u001B[39m arguments\n\u001B[1;32m--> 133\u001B[0m process \u001B[38;5;241m=\u001B[39m \u001B[43msubprocess\u001B[49m\u001B[38;5;241;43m.\u001B[39;49m\u001B[43mPopen\u001B[49m\u001B[43m(\u001B[49m\n\u001B[0;32m    134\u001B[0m \u001B[43m    \u001B[49m\u001B[43mprogram_with_args\u001B[49m\u001B[43m,\u001B[49m\n\u001B[0;32m    135\u001B[0m \u001B[43m    \u001B[49m\u001B[43menv\u001B[49m\u001B[38;5;241;43m=\u001B[39;49m\u001B[43menv\u001B[49m\u001B[43m,\u001B[49m\n\u001B[0;32m    136\u001B[0m \u001B[43m    \u001B[49m\u001B[43mcwd\u001B[49m\u001B[38;5;241;43m=\u001B[39;49m\u001B[43mworking_dir\u001B[49m\u001B[43m,\u001B[49m\n\u001B[0;32m    137\u001B[0m \u001B[43m    \u001B[49m\u001B[43mshell\u001B[49m\u001B[38;5;241;43m=\u001B[39;49m\u001B[38;5;28;43;01mFalse\u001B[39;49;00m\u001B[43m,\u001B[49m\n\u001B[0;32m    138\u001B[0m \u001B[43m    \u001B[49m\u001B[43mstderr\u001B[49m\u001B[38;5;241;43m=\u001B[39;49m\u001B[43msubprocess\u001B[49m\u001B[38;5;241;43m.\u001B[39;49m\u001B[43mPIPE\u001B[49m\u001B[43m,\u001B[49m\n\u001B[0;32m    139\u001B[0m \u001B[43m    \u001B[49m\u001B[43mstdout\u001B[49m\u001B[38;5;241;43m=\u001B[39;49m\u001B[43msubprocess\u001B[49m\u001B[38;5;241;43m.\u001B[39;49m\u001B[43mPIPE\u001B[49m\u001B[43m,\u001B[49m\n\u001B[0;32m    140\u001B[0m \u001B[43m    \u001B[49m\u001B[38;5;241;43m*\u001B[39;49m\u001B[38;5;241;43m*\u001B[39;49m\u001B[43mkwargs\u001B[49m\u001B[43m,\u001B[49m\n\u001B[0;32m    141\u001B[0m \u001B[43m\u001B[49m\u001B[43m)\u001B[49m\n\u001B[0;32m    142\u001B[0m stdout_data, stderr_data \u001B[38;5;241m=\u001B[39m process\u001B[38;5;241m.\u001B[39mcommunicate()\n",
      "File \u001B[1;32m~\\AppData\\Local\\Programs\\Python\\Python311\\Lib\\subprocess.py:1024\u001B[0m, in \u001B[0;36mPopen.__init__\u001B[1;34m(self, args, bufsize, executable, stdin, stdout, stderr, preexec_fn, close_fds, shell, cwd, env, universal_newlines, startupinfo, creationflags, restore_signals, start_new_session, pass_fds, user, group, extra_groups, encoding, errors, text, umask, pipesize, process_group)\u001B[0m\n\u001B[0;32m   1021\u001B[0m             \u001B[38;5;28mself\u001B[39m\u001B[38;5;241m.\u001B[39mstderr \u001B[38;5;241m=\u001B[39m io\u001B[38;5;241m.\u001B[39mTextIOWrapper(\u001B[38;5;28mself\u001B[39m\u001B[38;5;241m.\u001B[39mstderr,\n\u001B[0;32m   1022\u001B[0m                     encoding\u001B[38;5;241m=\u001B[39mencoding, errors\u001B[38;5;241m=\u001B[39merrors)\n\u001B[1;32m-> 1024\u001B[0m     \u001B[38;5;28;43mself\u001B[39;49m\u001B[38;5;241;43m.\u001B[39;49m\u001B[43m_execute_child\u001B[49m\u001B[43m(\u001B[49m\u001B[43margs\u001B[49m\u001B[43m,\u001B[49m\u001B[43m \u001B[49m\u001B[43mexecutable\u001B[49m\u001B[43m,\u001B[49m\u001B[43m \u001B[49m\u001B[43mpreexec_fn\u001B[49m\u001B[43m,\u001B[49m\u001B[43m \u001B[49m\u001B[43mclose_fds\u001B[49m\u001B[43m,\u001B[49m\n\u001B[0;32m   1025\u001B[0m \u001B[43m                        \u001B[49m\u001B[43mpass_fds\u001B[49m\u001B[43m,\u001B[49m\u001B[43m \u001B[49m\u001B[43mcwd\u001B[49m\u001B[43m,\u001B[49m\u001B[43m \u001B[49m\u001B[43menv\u001B[49m\u001B[43m,\u001B[49m\n\u001B[0;32m   1026\u001B[0m \u001B[43m                        \u001B[49m\u001B[43mstartupinfo\u001B[49m\u001B[43m,\u001B[49m\u001B[43m \u001B[49m\u001B[43mcreationflags\u001B[49m\u001B[43m,\u001B[49m\u001B[43m \u001B[49m\u001B[43mshell\u001B[49m\u001B[43m,\u001B[49m\n\u001B[0;32m   1027\u001B[0m \u001B[43m                        \u001B[49m\u001B[43mp2cread\u001B[49m\u001B[43m,\u001B[49m\u001B[43m \u001B[49m\u001B[43mp2cwrite\u001B[49m\u001B[43m,\u001B[49m\n\u001B[0;32m   1028\u001B[0m \u001B[43m                        \u001B[49m\u001B[43mc2pread\u001B[49m\u001B[43m,\u001B[49m\u001B[43m \u001B[49m\u001B[43mc2pwrite\u001B[49m\u001B[43m,\u001B[49m\n\u001B[0;32m   1029\u001B[0m \u001B[43m                        \u001B[49m\u001B[43merrread\u001B[49m\u001B[43m,\u001B[49m\u001B[43m \u001B[49m\u001B[43merrwrite\u001B[49m\u001B[43m,\u001B[49m\n\u001B[0;32m   1030\u001B[0m \u001B[43m                        \u001B[49m\u001B[43mrestore_signals\u001B[49m\u001B[43m,\u001B[49m\n\u001B[0;32m   1031\u001B[0m \u001B[43m                        \u001B[49m\u001B[43mgid\u001B[49m\u001B[43m,\u001B[49m\u001B[43m \u001B[49m\u001B[43mgids\u001B[49m\u001B[43m,\u001B[49m\u001B[43m \u001B[49m\u001B[43muid\u001B[49m\u001B[43m,\u001B[49m\u001B[43m \u001B[49m\u001B[43mumask\u001B[49m\u001B[43m,\u001B[49m\n\u001B[0;32m   1032\u001B[0m \u001B[43m                        \u001B[49m\u001B[43mstart_new_session\u001B[49m\u001B[43m,\u001B[49m\u001B[43m \u001B[49m\u001B[43mprocess_group\u001B[49m\u001B[43m)\u001B[49m\n\u001B[0;32m   1033\u001B[0m \u001B[38;5;28;01mexcept\u001B[39;00m:\n\u001B[0;32m   1034\u001B[0m     \u001B[38;5;66;03m# Cleanup if the child failed starting.\u001B[39;00m\n",
      "File \u001B[1;32m~\\AppData\\Local\\Programs\\Python\\Python311\\Lib\\subprocess.py:1493\u001B[0m, in \u001B[0;36mPopen._execute_child\u001B[1;34m(self, args, executable, preexec_fn, close_fds, pass_fds, cwd, env, startupinfo, creationflags, shell, p2cread, p2cwrite, c2pread, c2pwrite, errread, errwrite, unused_restore_signals, unused_gid, unused_gids, unused_uid, unused_umask, unused_start_new_session, unused_process_group)\u001B[0m\n\u001B[0;32m   1492\u001B[0m \u001B[38;5;28;01mtry\u001B[39;00m:\n\u001B[1;32m-> 1493\u001B[0m     hp, ht, pid, tid \u001B[38;5;241m=\u001B[39m \u001B[43m_winapi\u001B[49m\u001B[38;5;241;43m.\u001B[39;49m\u001B[43mCreateProcess\u001B[49m\u001B[43m(\u001B[49m\u001B[43mexecutable\u001B[49m\u001B[43m,\u001B[49m\u001B[43m \u001B[49m\u001B[43margs\u001B[49m\u001B[43m,\u001B[49m\n\u001B[0;32m   1494\u001B[0m \u001B[43m                             \u001B[49m\u001B[38;5;66;43;03m# no special security\u001B[39;49;00m\n\u001B[0;32m   1495\u001B[0m \u001B[43m                             \u001B[49m\u001B[38;5;28;43;01mNone\u001B[39;49;00m\u001B[43m,\u001B[49m\u001B[43m \u001B[49m\u001B[38;5;28;43;01mNone\u001B[39;49;00m\u001B[43m,\u001B[49m\n\u001B[0;32m   1496\u001B[0m \u001B[43m                             \u001B[49m\u001B[38;5;28;43mint\u001B[39;49m\u001B[43m(\u001B[49m\u001B[38;5;129;43;01mnot\u001B[39;49;00m\u001B[43m \u001B[49m\u001B[43mclose_fds\u001B[49m\u001B[43m)\u001B[49m\u001B[43m,\u001B[49m\n\u001B[0;32m   1497\u001B[0m \u001B[43m                             \u001B[49m\u001B[43mcreationflags\u001B[49m\u001B[43m,\u001B[49m\n\u001B[0;32m   1498\u001B[0m \u001B[43m                             \u001B[49m\u001B[43menv\u001B[49m\u001B[43m,\u001B[49m\n\u001B[0;32m   1499\u001B[0m \u001B[43m                             \u001B[49m\u001B[43mcwd\u001B[49m\u001B[43m,\u001B[49m\n\u001B[0;32m   1500\u001B[0m \u001B[43m                             \u001B[49m\u001B[43mstartupinfo\u001B[49m\u001B[43m)\u001B[49m\n\u001B[0;32m   1501\u001B[0m \u001B[38;5;28;01mfinally\u001B[39;00m:\n\u001B[0;32m   1502\u001B[0m     \u001B[38;5;66;03m# Child is launched. Close the parent's copy of those pipe\u001B[39;00m\n\u001B[0;32m   1503\u001B[0m     \u001B[38;5;66;03m# handles that only the child should have open.  You need\u001B[39;00m\n\u001B[1;32m   (...)\u001B[0m\n\u001B[0;32m   1506\u001B[0m     \u001B[38;5;66;03m# pipe will not close when the child process exits and the\u001B[39;00m\n\u001B[0;32m   1507\u001B[0m     \u001B[38;5;66;03m# ReadFile will hang.\u001B[39;00m\n",
      "\u001B[1;31mFileNotFoundError\u001B[0m: [WinError 2] The system cannot find the file specified",
      "\nDuring handling of the above exception, another exception occurred:\n",
      "\u001B[1;31mFileNotFoundError\u001B[0m                         Traceback (most recent call last)",
      "File \u001B[1;32mC:\\environments\\Lib\\site-packages\\keras\\src\\utils\\model_visualization.py:37\u001B[0m, in \u001B[0;36mcheck_graphviz\u001B[1;34m()\u001B[0m\n\u001B[0;32m     34\u001B[0m \u001B[38;5;28;01mtry\u001B[39;00m:\n\u001B[0;32m     35\u001B[0m     \u001B[38;5;66;03m# Attempt to create an image of a blank graph\u001B[39;00m\n\u001B[0;32m     36\u001B[0m     \u001B[38;5;66;03m# to check the pydot/graphviz installation.\u001B[39;00m\n\u001B[1;32m---> 37\u001B[0m     \u001B[43mpydot\u001B[49m\u001B[38;5;241;43m.\u001B[39;49m\u001B[43mDot\u001B[49m\u001B[38;5;241;43m.\u001B[39;49m\u001B[43mcreate\u001B[49m\u001B[43m(\u001B[49m\u001B[43mpydot\u001B[49m\u001B[38;5;241;43m.\u001B[39;49m\u001B[43mDot\u001B[49m\u001B[43m(\u001B[49m\u001B[43m)\u001B[49m\u001B[43m)\u001B[49m\n\u001B[0;32m     38\u001B[0m     \u001B[38;5;28;01mreturn\u001B[39;00m \u001B[38;5;28;01mTrue\u001B[39;00m\n",
      "File \u001B[1;32mC:\\environments\\Lib\\site-packages\\pydot\\core.py:1762\u001B[0m, in \u001B[0;36mDot.create\u001B[1;34m(self, prog, format, encoding)\u001B[0m\n\u001B[0;32m   1761\u001B[0m     args[\u001B[38;5;241m1\u001B[39m] \u001B[38;5;241m=\u001B[39m \u001B[38;5;124m'\u001B[39m\u001B[38;5;124m\"\u001B[39m\u001B[38;5;132;01m{prog}\u001B[39;00m\u001B[38;5;124m\"\u001B[39m\u001B[38;5;124m not found in path.\u001B[39m\u001B[38;5;124m'\u001B[39m\u001B[38;5;241m.\u001B[39mformat(prog\u001B[38;5;241m=\u001B[39mprog)\n\u001B[1;32m-> 1762\u001B[0m     \u001B[38;5;28;01mraise\u001B[39;00m \u001B[38;5;167;01mOSError\u001B[39;00m(\u001B[38;5;241m*\u001B[39margs)\n\u001B[0;32m   1763\u001B[0m \u001B[38;5;28;01melse\u001B[39;00m:\n",
      "\u001B[1;31mFileNotFoundError\u001B[0m: [WinError 2] \"dot\" not found in path.",
      "\nDuring handling of the above exception, another exception occurred:\n",
      "\u001B[1;31mAttributeError\u001B[0m                            Traceback (most recent call last)",
      "Cell \u001B[1;32mIn[7], line 8\u001B[0m\n\u001B[0;32m      3\u001B[0m \u001B[38;5;28;01mimport\u001B[39;00m \u001B[38;5;21;01mgraphviz\u001B[39;00m\n\u001B[0;32m      4\u001B[0m \u001B[38;5;28;01mfrom\u001B[39;00m \u001B[38;5;21;01mtensorflow\u001B[39;00m\u001B[38;5;21;01m.\u001B[39;00m\u001B[38;5;21;01mkeras\u001B[39;00m\u001B[38;5;21;01m.\u001B[39;00m\u001B[38;5;21;01mutils\u001B[39;00m \u001B[38;5;28;01mimport\u001B[39;00m plot_model\n\u001B[1;32m----> 8\u001B[0m \u001B[43mplot_model\u001B[49m\u001B[43m(\u001B[49m\u001B[43mmodel\u001B[49m\u001B[43m,\u001B[49m\u001B[43m \u001B[49m\u001B[43mto_file\u001B[49m\u001B[38;5;241;43m=\u001B[39;49m\u001B[38;5;124;43m'\u001B[39;49m\u001B[38;5;124;43mmodel.png\u001B[39;49m\u001B[38;5;124;43m'\u001B[39;49m\u001B[43m,\u001B[49m\u001B[43m \u001B[49m\u001B[43mshow_shapes\u001B[49m\u001B[38;5;241;43m=\u001B[39;49m\u001B[38;5;28;43;01mTrue\u001B[39;49;00m\u001B[43m,\u001B[49m\u001B[43m \u001B[49m\u001B[43mshow_layer_names\u001B[49m\u001B[38;5;241;43m=\u001B[39;49m\u001B[38;5;28;43;01mTrue\u001B[39;49;00m\u001B[43m)\u001B[49m\n",
      "File \u001B[1;32mC:\\environments\\Lib\\site-packages\\keras\\src\\utils\\model_visualization.py:406\u001B[0m, in \u001B[0;36mplot_model\u001B[1;34m(model, to_file, show_shapes, show_dtype, show_layer_names, rankdir, expand_nested, dpi, show_layer_activations, show_trainable, **kwargs)\u001B[0m\n\u001B[0;32m    404\u001B[0m     \u001B[38;5;28;01melse\u001B[39;00m:\n\u001B[0;32m    405\u001B[0m         \u001B[38;5;28;01mraise\u001B[39;00m \u001B[38;5;167;01mImportError\u001B[39;00m(message)\n\u001B[1;32m--> 406\u001B[0m \u001B[38;5;28;01mif\u001B[39;00m \u001B[38;5;129;01mnot\u001B[39;00m \u001B[43mcheck_graphviz\u001B[49m\u001B[43m(\u001B[49m\u001B[43m)\u001B[49m:\n\u001B[0;32m    407\u001B[0m     message \u001B[38;5;241m=\u001B[39m (\n\u001B[0;32m    408\u001B[0m         \u001B[38;5;124m\"\u001B[39m\u001B[38;5;124mYou must install graphviz \u001B[39m\u001B[38;5;124m\"\u001B[39m\n\u001B[0;32m    409\u001B[0m         \u001B[38;5;124m\"\u001B[39m\u001B[38;5;124m(see instructions at https://graphviz.gitlab.io/download/) \u001B[39m\u001B[38;5;124m\"\u001B[39m\n\u001B[0;32m    410\u001B[0m         \u001B[38;5;124m\"\u001B[39m\u001B[38;5;124mfor `plot_model` to work.\u001B[39m\u001B[38;5;124m\"\u001B[39m\n\u001B[0;32m    411\u001B[0m     )\n\u001B[0;32m    412\u001B[0m     \u001B[38;5;28;01mif\u001B[39;00m \u001B[38;5;124m\"\u001B[39m\u001B[38;5;124mIPython.core.magics.namespace\u001B[39m\u001B[38;5;124m\"\u001B[39m \u001B[38;5;129;01min\u001B[39;00m sys\u001B[38;5;241m.\u001B[39mmodules:\n\u001B[0;32m    413\u001B[0m         \u001B[38;5;66;03m# We don't raise an exception here in order to avoid crashing\u001B[39;00m\n\u001B[0;32m    414\u001B[0m         \u001B[38;5;66;03m# notebook tests where graphviz is not available.\u001B[39;00m\n",
      "File \u001B[1;32mC:\\environments\\Lib\\site-packages\\keras\\src\\utils\\model_visualization.py:39\u001B[0m, in \u001B[0;36mcheck_graphviz\u001B[1;34m()\u001B[0m\n\u001B[0;32m     37\u001B[0m     pydot\u001B[38;5;241m.\u001B[39mDot\u001B[38;5;241m.\u001B[39mcreate(pydot\u001B[38;5;241m.\u001B[39mDot())\n\u001B[0;32m     38\u001B[0m     \u001B[38;5;28;01mreturn\u001B[39;00m \u001B[38;5;28;01mTrue\u001B[39;00m\n\u001B[1;32m---> 39\u001B[0m \u001B[38;5;28;01mexcept\u001B[39;00m (\u001B[38;5;167;01mOSError\u001B[39;00m, \u001B[43mpydot\u001B[49m\u001B[38;5;241;43m.\u001B[39;49m\u001B[43mInvocationException\u001B[49m):\n\u001B[0;32m     40\u001B[0m     \u001B[38;5;28;01mreturn\u001B[39;00m \u001B[38;5;28;01mFalse\u001B[39;00m\n",
      "\u001B[1;31mAttributeError\u001B[0m: module 'pydot' has no attribute 'InvocationException'"
     ]
    }
   ],
   "execution_count": 7
  },
  {
   "metadata": {
    "ExecuteTime": {
     "end_time": "2024-05-29T18:02:53.803858Z",
     "start_time": "2024-05-29T18:02:53.679060Z"
    }
   },
   "cell_type": "code",
   "source": [
    "import pandas as pd\n",
    "import numpy as np\n",
    "from sklearn.preprocessing import PolynomialFeatures\n",
    "import statsmodels.api as sm\n",
    "\n",
    "# Load the data from the provided CSV file\n",
    "file_path = 'data.csv'  # Update this path to your local file\n",
    "data = pd.read_csv(file_path)\n",
    "\n",
    "# Convert 'Date' to datetime format\n",
    "data['Date'] = pd.to_datetime(data['Date'])\n",
    "\n",
    "# Calculate daily returns\n",
    "data['Return'] = data['Close'].pct_change()\n",
    "data[\"Volatility\"] = data[\"Return\"] ** 2\n",
    "\n",
    "\n",
    "# Drop rows with missing values\n",
    "data = data.dropna()\n",
    "\n",
    "# Prepare the data for polynomial regression\n",
    "X_poly = data[['Bullish_sentiment', 'Bearish_sentiment', 'Neutral_sentiment', 'Spread_sentiment', 'Mov Avg_sentiment']]\n",
    "y_poly = data['Volatility']\n",
    "\n",
    "# Generate polynomial features (degree 2 for this example)\n",
    "poly = PolynomialFeatures(degree=2)\n",
    "X_poly_transformed = poly.fit_transform(X_poly)\n",
    "X_poly_transformed = sm.add_constant(X_poly_transformed)  # Add a constant term for intercept\n",
    "\n",
    "# Fit the polynomial regression model using statsmodels\n",
    "poly_model_sm = sm.OLS(y_poly, X_poly_transformed).fit()\n",
    "\n",
    "# Get the summary of the model\n",
    "poly_model_summary = poly_model_sm.summary()\n",
    "print(poly_model_summary)\n"
   ],
   "id": "2547df80c33bd269",
   "outputs": [
    {
     "name": "stdout",
     "output_type": "stream",
     "text": [
      "                            OLS Regression Results                            \n",
      "==============================================================================\n",
      "Dep. Variable:             Volatility   R-squared:                       0.086\n",
      "Model:                            OLS   Adj. R-squared:                  0.083\n",
      "Method:                 Least Squares   F-statistic:                     40.86\n",
      "Date:                Wed, 29 May 2024   Prob (F-statistic):          8.50e-108\n",
      "Time:                        20:02:53   Log-Likelihood:                 37830.\n",
      "No. Observations:                6126   AIC:                        -7.563e+04\n",
      "Df Residuals:                    6111   BIC:                        -7.553e+04\n",
      "Df Model:                          14                                         \n",
      "Covariance Type:            nonrobust                                         \n",
      "==============================================================================\n",
      "                 coef    std err          t      P>|t|      [0.025      0.975]\n",
      "------------------------------------------------------------------------------\n",
      "const        -14.1503    203.917     -0.069      0.945    -413.899     385.598\n",
      "x1            27.4019    406.872      0.067      0.946    -770.211     825.015\n",
      "x2            28.0920    407.294      0.069      0.945    -770.348     826.532\n",
      "x3            26.3176    408.838      0.064      0.949    -775.150     827.785\n",
      "x4            -0.6901      0.762     -0.905      0.365      -2.185       0.805\n",
      "x5             2.5721      2.869      0.896      0.370      -3.053       8.197\n",
      "x6           -17.1568    263.803     -0.065      0.948    -534.303     499.990\n",
      "x7           -19.0329    284.435     -0.067      0.947    -576.625     538.560\n",
      "x8           -25.4234    407.881     -0.062      0.950    -825.013     774.166\n",
      "x9             1.8761     20.638      0.091      0.928     -38.581      42.334\n",
      "x10           -2.5723      2.869     -0.896      0.370      -8.197       3.053\n",
      "x11          -18.1899    264.434     -0.069      0.945    -536.574     500.194\n",
      "x12          -26.1148    408.300     -0.064      0.949    -826.527     774.298\n",
      "x13           -0.8430     20.007     -0.042      0.966     -40.064      38.378\n",
      "x14           -2.5734      2.869     -0.897      0.370      -8.198       3.051\n",
      "x15          -12.1653    204.926     -0.059      0.953    -413.892     389.561\n",
      "x16            0.6913      0.763      0.907      0.365      -0.803       2.186\n",
      "x17           -2.5670      2.869     -0.895      0.371      -8.192       3.058\n",
      "x18            2.7192     40.634      0.067      0.947     -76.937      82.375\n",
      "x19            0.0011      0.001      1.431      0.152      -0.000       0.003\n",
      "x20           -0.0017      0.002     -1.039      0.299      -0.005       0.001\n",
      "==============================================================================\n",
      "Omnibus:                    11035.276   Durbin-Watson:                   1.489\n",
      "Prob(Omnibus):                  0.000   Jarque-Bera (JB):         17205509.837\n",
      "Skew:                          13.013   Prob(JB):                         0.00\n",
      "Kurtosis:                     261.320   Cond. No.                     1.68e+17\n",
      "==============================================================================\n",
      "\n",
      "Notes:\n",
      "[1] Standard Errors assume that the covariance matrix of the errors is correctly specified.\n",
      "[2] The smallest eigenvalue is 3.6e-31. This might indicate that there are\n",
      "strong multicollinearity problems or that the design matrix is singular.\n"
     ]
    }
   ],
   "execution_count": 5
  },
  {
   "metadata": {},
   "cell_type": "code",
   "outputs": [],
   "execution_count": null,
   "source": "",
   "id": "b22a19ab98125cc5"
  }
 ],
 "metadata": {
  "kernelspec": {
   "display_name": "Python 3",
   "language": "python",
   "name": "python3"
  },
  "language_info": {
   "codemirror_mode": {
    "name": "ipython",
    "version": 2
   },
   "file_extension": ".py",
   "mimetype": "text/x-python",
   "name": "python",
   "nbconvert_exporter": "python",
   "pygments_lexer": "ipython2",
   "version": "2.7.6"
  }
 },
 "nbformat": 4,
 "nbformat_minor": 5
}
